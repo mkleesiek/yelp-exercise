{
 "cells": [
  {
   "cell_type": "markdown",
   "metadata": {},
   "source": [
    "# Predicting Yelp Star Ratings\n",
    "In this little exercise, I am going to have a look at the distribution of Yelp ratings (1 to 5 stars) and their correlations to business and user attributes. Eventually I am attempting to use some ML algorithms to predict a rating from business / user attributes and basic properties of the review test."
   ]
  },
  {
   "cell_type": "markdown",
   "metadata": {},
   "source": [
    "### Import statements"
   ]
  },
  {
   "cell_type": "code",
   "execution_count": 1,
   "metadata": {
    "collapsed": false
   },
   "outputs": [],
   "source": [
    "%matplotlib inline\n",
    "\n",
    "import os, sys\n",
    "import numpy as np\n",
    "import pandas as pd\n",
    "import random\n",
    "\n",
    "import matplotlib\n",
    "import matplotlib.pyplot as plt\n",
    "matplotlib.style.use('ggplot')\n",
    "#matplotlib.style.use('fivethirtyeight')\n",
    "\n",
    "from sklearn.model_selection import train_test_split\n",
    "from sklearn.naive_bayes import MultinomialNB\n",
    "from sklearn.feature_extraction.text import CountVectorizer"
   ]
  },
  {
   "cell_type": "code",
   "execution_count": 2,
   "metadata": {
    "collapsed": true
   },
   "outputs": [],
   "source": [
    "def format_column_names(dataFrame):\n",
    "    dataFrame.columns = dataFrame.columns.str.replace('[^\\w.]+','_')\n",
    "    dataFrame.columns = dataFrame.columns.str.lower()\n",
    "    \n",
    "pd.options.display.max_seq_items = 500"
   ]
  },
  {
   "cell_type": "markdown",
   "metadata": {},
   "source": [
    "### User Settings"
   ]
  },
  {
   "cell_type": "code",
   "execution_count": 3,
   "metadata": {
    "collapsed": true
   },
   "outputs": [],
   "source": [
    "# The fraction (random sample) of the review dataset, which is to be parsed\n",
    "# (values larges than 0.1 will cause memory overflows when performing in-memory merges)\n",
    "REVIEW_FRAC = 0.1\n",
    "\n",
    "# The minimium number of user votes for a review to consider it to be relevant\n",
    "MIN_VOTES = 5"
   ]
  },
  {
   "cell_type": "markdown",
   "metadata": {},
   "source": [
    "### Verify the source directory"
   ]
  },
  {
   "cell_type": "code",
   "execution_count": null,
   "metadata": {
    "collapsed": false
   },
   "outputs": [
    {
     "name": "stdout",
     "output_type": "stream",
     "text": [
      "Source directory: /home/marco/workspace-python/YelpExercise/yelp-workspace\n"
     ]
    }
   ],
   "source": [
    "# Set the source directory for the input csv files (business.csv, user.csv, review.csv)\n",
    "source_dir = os.path.join( os.getcwd(), 'yelp-workspace' )\n",
    "\n",
    "required_files = ['business.csv', 'user.csv', 'review.csv']\n",
    "\n",
    "nfiles_found = sum( os.path.isfile( os.path.join(source_dir, f) ) for f in required_files)\n",
    "if nfiles_found < len(required_files):\n",
    "    source_dir = input('Specify CSV source directory: ')\n",
    "if nfiles_found < len(required_files):\n",
    "    print('Source files not found.')\n",
    "    sys.exit(1)\n",
    "    \n",
    "print('Source directory: {0}'.format(source_dir))"
   ]
  },
  {
   "cell_type": "markdown",
   "metadata": {},
   "source": [
    "## Data Wrangling"
   ]
  },
  {
   "cell_type": "markdown",
   "metadata": {},
   "source": [
    "### Load and format business data"
   ]
  },
  {
   "cell_type": "code",
   "execution_count": null,
   "metadata": {
    "collapsed": false
   },
   "outputs": [],
   "source": [
    "# Load business data\n",
    "businesses = pd.read_csv( os.path.join(source_dir, 'business.csv'),\n",
    "    parse_dates=True,\n",
    "    low_memory=False,\n",
    "    index_col='business_id'\n",
    ")\n",
    "format_column_names(businesses)\n",
    "\n",
    "# Identify column starting with 'attribute'\n",
    "attr_cols = [col for col in list(businesses) if col.startswith('attributes.')]\n",
    "\n",
    "# Convert attribute columns to numeric values\n",
    "businesses[attr_cols] = businesses[attr_cols].replace(\n",
    "    to_replace=[True, 'yes', 'full_bar', 'free', 'yes_free', 'quiet', 'yes_corkage', 'beer_and_wine'], value=1 )\n",
    "businesses[attr_cols] = businesses[attr_cols].replace(\n",
    "    to_replace=[False, 'no', 'none', 'very_loud'], value=-1 )\n",
    "businesses[attr_cols] = businesses[attr_cols].apply(pd.to_numeric, errors='coerce').fillna(0)\n",
    "\n",
    "#businesses.columns\n",
    "#businesses.info()"
   ]
  },
  {
   "cell_type": "code",
   "execution_count": null,
   "metadata": {
    "collapsed": false
   },
   "outputs": [],
   "source": [
    "# Plot the business mean ratings\n",
    "#star_counts = businesses.stars.value_counts(sort=False, normalize=True).sort_index()\n",
    "#star_counts.plot(kind=\"bar\", title=\"Business Mean Ratings\", rot='0').set_xlabel('Rating')"
   ]
  },
  {
   "cell_type": "markdown",
   "metadata": {},
   "source": [
    "### Load and format user data"
   ]
  },
  {
   "cell_type": "code",
   "execution_count": null,
   "metadata": {
    "collapsed": false
   },
   "outputs": [],
   "source": [
    "# Load user data\n",
    "users = pd.read_csv( os.path.join(source_dir, 'user.csv'), parse_dates=True, index_col='user_id' )\n",
    "format_column_names(users)\n",
    "\n",
    "compl_cols = [col for col in list(users) if col.startswith('compliments.')]\n",
    "users['compliments'] = users[compl_cols].sum(axis=1)\n",
    "\n",
    "vote_cols = [col for col in list(users) if col.startswith('votes.')]\n",
    "users['votes'] = users[vote_cols].sum(axis=1)\n",
    "\n",
    "#users.columns\n",
    "#users.info()"
   ]
  },
  {
   "cell_type": "markdown",
   "metadata": {},
   "source": [
    "### Load and format reviews data"
   ]
  },
  {
   "cell_type": "code",
   "execution_count": null,
   "metadata": {
    "collapsed": false
   },
   "outputs": [],
   "source": [
    "review_file = os.path.join(source_dir, 'review.csv')\n",
    "\n",
    "# count lines\n",
    "#num_lines = sum(1 for _ in open(review_file))\n",
    "num_lines = 10000000\n",
    "# configure random line indices to skip\n",
    "skip_idx = random.sample(range(1, num_lines), num_lines - int(REVIEW_FRAC*num_lines))\n",
    "\n",
    "# only load a random fraction of the reviews dataset, specified by REVIEW_FRAC\n",
    "reviews = pd.read_csv(\n",
    "    review_file,\n",
    "    parse_dates=True,\n",
    "    index_col='review_id',\n",
    "    skiprows=skip_idx\n",
    ")\n",
    "format_column_names(reviews)\n",
    "\n",
    "reviews['text_length'] = reviews['text'].str.len()\n",
    "reviews['text_wc'] = reviews['text'].str.split().apply(len)\n",
    "\n",
    "vote_cols = [col for col in list(reviews) if col.startswith('votes.')]\n",
    "reviews['votes'] = reviews[vote_cols].sum(axis=1)\n",
    "\n",
    "times = pd.DatetimeIndex(reviews.date)\n",
    "reviews['year'] = times.year\n",
    "\n",
    "#reviews.columns\n",
    "reviews.info()"
   ]
  },
  {
   "cell_type": "markdown",
   "metadata": {},
   "source": [
    "### Merge reviews, users and business tables (left joins)"
   ]
  },
  {
   "cell_type": "code",
   "execution_count": null,
   "metadata": {
    "collapsed": false
   },
   "outputs": [],
   "source": [
    "rb = pd.merge(reviews, businesses, how='left', left_on='business_id', right_index=True, suffixes=('@reviews', '@businesses'))\n",
    "rbu = pd.merge(rb, users, how='left', left_on='user_id', right_index=True, suffixes=('@reviews', '@users'))\n",
    "\n",
    "#rbu['stars@reviews'].loc[rbu['votes@reviews'] >= 1].size\n",
    "\n",
    "del businesses\n",
    "del users\n",
    "del reviews\n",
    "\n",
    "#rbu.columns\n",
    "rbu.info()"
   ]
  },
  {
   "cell_type": "markdown",
   "metadata": {},
   "source": [
    "# Exploratory Data Analysis"
   ]
  },
  {
   "cell_type": "markdown",
   "metadata": {},
   "source": [
    "### Plot number of votes per review"
   ]
  },
  {
   "cell_type": "code",
   "execution_count": null,
   "metadata": {
    "collapsed": false
   },
   "outputs": [],
   "source": [
    "rbu['votes@reviews'].value_counts(normalize=True).ix[:20] \\\n",
    "    .plot.bar(rot=90, title='Distribution of votes per review')"
   ]
  },
  {
   "cell_type": "markdown",
   "metadata": {},
   "source": [
    "### Investigate the distribution of ratings"
   ]
  },
  {
   "cell_type": "code",
   "execution_count": null,
   "metadata": {
    "collapsed": false
   },
   "outputs": [],
   "source": [
    "star_counts = rbu['stars@reviews'].value_counts(normalize=True).sort_index()\n",
    "star_counts_min1 = rbu['stars@reviews'].loc[rbu['votes@reviews'] >= 1].value_counts(normalize=True).sort_index()\n",
    "#star_counts_min3 = rbu['stars@reviews'].loc[rbu['votes@reviews'] >= 3].value_counts(normalize=True).sort_index()\n",
    "star_counts_min5 = rbu['stars@reviews'].loc[rbu['votes@reviews'] >= 5].value_counts(normalize=True).sort_index()\n",
    "\n",
    "star_counts_comb = pd.concat([star_counts, star_counts_min1, star_counts_min5], axis=1)\n",
    "star_counts_comb.columns = ['all', 'minimum of 1 vote', 'minimum of 5 votes']\n",
    "\n",
    "star_counts_comb.plot.bar(title=\"Distribution of ratings\", stacked=False, rot=0).set_xlabel('Rating')"
   ]
  },
  {
   "cell_type": "code",
   "execution_count": null,
   "metadata": {
    "collapsed": false
   },
   "outputs": [],
   "source": [
    "star_counts_per_year = rbu.loc[rbu['votes@reviews'] >= MIN_VOTES].groupby(['year'])['stars@reviews'].value_counts(normalize=True).unstack().transpose()\n",
    "star_counts_per_year[star_counts_per_year.columns[-5:]].plot.bar(title=\"Distribution of ratings per year (min. of {0} votes)\".format(MIN_VOTES), stacked=False, rot=0).set_xlabel('Rating')"
   ]
  },
  {
   "cell_type": "markdown",
   "metadata": {},
   "source": [
    "### Investigate correlations with the ratings column"
   ]
  },
  {
   "cell_type": "code",
   "execution_count": null,
   "metadata": {
    "collapsed": false
   },
   "outputs": [],
   "source": [
    "cols = ['attributes.accepts_credit_cards',\n",
    " 'attributes.alcohol',\n",
    " 'attributes.by_appointment_only',\n",
    " 'attributes.caters',\n",
    " 'attributes.coat_check',\n",
    " 'attributes.corkage',\n",
    " 'attributes.delivery',\n",
    " 'attributes.dogs_allowed',\n",
    " 'attributes.drive_thru',\n",
    " 'attributes.good_for_dancing',\n",
    " 'attributes.good_for_groups',\n",
    " 'attributes.good_for.breakfast',\n",
    " 'attributes.good_for.brunch',\n",
    " 'attributes.good_for.dessert',\n",
    " 'attributes.good_for.dinner',\n",
    " 'attributes.good_for.latenight',\n",
    " 'attributes.good_for.lunch',\n",
    " 'attributes.good_for_kids',\n",
    " 'attributes.happy_hour',\n",
    " 'attributes.has_tv',\n",
    " 'attributes.noise_level',\n",
    " 'attributes.open_24_hours',\n",
    " 'attributes.order_at_counter',\n",
    " 'attributes.outdoor_seating',\n",
    " 'attributes.price_range',\n",
    " 'attributes.smoking',\n",
    " 'attributes.take_out',\n",
    " 'attributes.takes_reservations',\n",
    " 'attributes.waiter_service',\n",
    " 'attributes.wheelchair_accessible',\n",
    " 'attributes.wi_fi',\n",
    " 'review_count@users',\n",
    " 'compliments']\n",
    "correls = rbu[cols].corrwith(rbu['stars@reviews'], drop=True).sort_values()\n",
    "correls.plot.bar(figsize=(10,5), title='Correlation of business attributes (#1) with avg. rating')"
   ]
  },
  {
   "cell_type": "code",
   "execution_count": null,
   "metadata": {
    "collapsed": false
   },
   "outputs": [],
   "source": [
    "cols = [col for col in list(rbu) if '.ambience' in col or '.music' in col or '.parking' in col]\n",
    "correls = rbu[cols].corrwith(rbu['stars@businesses'], drop=True).sort_values()\n",
    "correls.plot.bar(figsize=(10,5), title='Correlation of business attributes (#2) with avg. rating')"
   ]
  },
  {
   "cell_type": "code",
   "execution_count": null,
   "metadata": {
    "collapsed": false
   },
   "outputs": [],
   "source": [
    "cols = ['compliments', 'votes@reviews', 'review_count@users', 'fans']\n",
    "correls = rbu[cols].corrwith(rbu['stars@reviews'], drop=True)\n",
    "correls.plot.bar(title='Correlation of user attributes & review votes with ratings')"
   ]
  },
  {
   "cell_type": "code",
   "execution_count": null,
   "metadata": {
    "collapsed": false,
    "scrolled": true
   },
   "outputs": [],
   "source": [
    "# rbu.loc[rbu['votes'] >= 5].groupby(['stars_review'])['text_length'].mean().plot.bar(title=\"Mean review length (characters) vs. rating (min. of 5 votes)\", stacked=False, rot=0).set_xlabel('Rating')"
   ]
  },
  {
   "cell_type": "markdown",
   "metadata": {},
   "source": [
    "### Investigate the relation between review word count and rating"
   ]
  },
  {
   "cell_type": "code",
   "execution_count": null,
   "metadata": {
    "collapsed": false,
    "scrolled": true
   },
   "outputs": [],
   "source": [
    "rbu.loc[rbu['votes@reviews'] >= MIN_VOTES].groupby(['stars@reviews'])['text_wc'].mean().plot.bar(title=\"Mean review word counts vs. rating (min. of 5 votes)\", stacked=False, rot=0).set_xlabel('Rating')"
   ]
  },
  {
   "cell_type": "code",
   "execution_count": null,
   "metadata": {
    "collapsed": false
   },
   "outputs": [],
   "source": [
    "rbu.columns"
   ]
  },
  {
   "cell_type": "markdown",
   "metadata": {},
   "source": [
    "# Predictive Data Analysis"
   ]
  },
  {
   "cell_type": "markdown",
   "metadata": {},
   "source": [
    "## Split the available data into training and test set"
   ]
  },
  {
   "cell_type": "markdown",
   "metadata": {},
   "source": [
    "## Vectorize the review texts"
   ]
  },
  {
   "cell_type": "code",
   "execution_count": null,
   "metadata": {
    "collapsed": false
   },
   "outputs": [],
   "source": [
    "train, test = train_test_split(rbu, test_size = 0.2)"
   ]
  },
  {
   "cell_type": "code",
   "execution_count": null,
   "metadata": {
    "collapsed": false
   },
   "outputs": [],
   "source": [
    "vect = CountVectorizer()\n",
    "vect.fit(train['text'])"
   ]
  },
  {
   "cell_type": "code",
   "execution_count": null,
   "metadata": {
    "collapsed": true
   },
   "outputs": [],
   "source": [
    "vect.get_feature_names()"
   ]
  },
  {
   "cell_type": "code",
   "execution_count": null,
   "metadata": {
    "collapsed": false
   },
   "outputs": [],
   "source": [
    "train_dtm = vect.transform(train)\n",
    "train_dtm"
   ]
  },
  {
   "cell_type": "code",
   "execution_count": null,
   "metadata": {
    "collapsed": true
   },
   "outputs": [],
   "source": [
    "test_dtm = vect.transform(test)\n",
    "test_dtm"
   ]
  }
 ],
 "metadata": {
  "kernelspec": {
   "display_name": "Python 3",
   "language": "python",
   "name": "python3"
  },
  "language_info": {
   "codemirror_mode": {
    "name": "ipython",
    "version": 3
   },
   "file_extension": ".py",
   "mimetype": "text/x-python",
   "name": "python",
   "nbconvert_exporter": "python",
   "pygments_lexer": "ipython3",
   "version": "3.5.2+"
  }
 },
 "nbformat": 4,
 "nbformat_minor": 0
}
